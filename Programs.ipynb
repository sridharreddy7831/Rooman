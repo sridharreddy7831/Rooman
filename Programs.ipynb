{
 "cells": [
  {
   "cell_type": "code",
   "execution_count": 22,
   "metadata": {},
   "outputs": [
    {
     "name": "stdout",
     "output_type": "stream",
     "text": [
      "Hello\n"
     ]
    }
   ],
   "source": [
    "print(\"Hello\")"
   ]
  },
  {
   "cell_type": "markdown",
   "metadata": {},
   "source": []
  },
  {
   "cell_type": "markdown",
   "metadata": {},
   "source": [
    "15-3-25\n"
   ]
  },
  {
   "cell_type": "markdown",
   "metadata": {},
   "source": [
    "Tuples Examples"
   ]
  },
  {
   "cell_type": "code",
   "execution_count": 29,
   "metadata": {},
   "outputs": [
    {
     "data": {
      "text/plain": [
       "tuple"
      ]
     },
     "execution_count": 29,
     "metadata": {},
     "output_type": "execute_result"
    }
   ],
   "source": [
    "x = (10,)\n",
    "type(x)"
   ]
  },
  {
   "cell_type": "code",
   "execution_count": 33,
   "metadata": {},
   "outputs": [
    {
     "name": "stdout",
     "output_type": "stream",
     "text": [
      "(1, 2, 3, 4)\n",
      "(1, 2, 3, 4, 10)\n"
     ]
    }
   ],
   "source": [
    "x = (1,2,3,4)\n",
    "print(x)\n",
    "\n",
    "y=list(x) #converting to list\n",
    "\n",
    "y.append(10)\n",
    "\n",
    "x = tuple(y)  #converting to Tuple\n",
    "print(x)"
   ]
  },
  {
   "cell_type": "code",
   "execution_count": 34,
   "metadata": {},
   "outputs": [
    {
     "data": {
      "text/plain": [
       "3"
      ]
     },
     "execution_count": 34,
     "metadata": {},
     "output_type": "execute_result"
    }
   ],
   "source": [
    "x = (1,2,3,1,4,5,1)\n",
    "x.count(1) #counting number of elements"
   ]
  },
  {
   "cell_type": "markdown",
   "metadata": {},
   "source": [
    "24-03-2025\n"
   ]
  },
  {
   "cell_type": "code",
   "execution_count": 30,
   "metadata": {},
   "outputs": [
    {
     "name": "stdout",
     "output_type": "stream",
     "text": [
      "The Mode is 35\n"
     ]
    }
   ],
   "source": [
    "# Q1: Calculate the mode of the list\n",
    "\n",
    "import statistics  # Importing the statistics module for mathematical operations\n",
    "\n",
    "# List of temperature data\n",
    "data = [34, 35, 26, 37, 2, 35]\n",
    "\n",
    "# Calculating the mode (most frequently occurring value) from the list\n",
    "mode_value = statistics.mode(data)\n",
    "\n",
    "# Printing the mode value\n",
    "print('The Mode is',mode_value)  # Expected Output: 35 (since 35 appears twice, more than any other number)\n"
   ]
  },
  {
   "cell_type": "code",
   "execution_count": 38,
   "metadata": {},
   "outputs": [
    {
     "name": "stdout",
     "output_type": "stream",
     "text": [
      "Updated list of tuples: [(10, 20, 30), (30, 40, 50), (80, 90, 100)]\n"
     ]
    }
   ],
   "source": [
    "# Q2: Replace the last element of the list of tuples\n",
    "list_of_tuples = [(10, 20, 30), (30, 40, 50), (50, 60, 70)]\n",
    "\n",
    "new_element = (80, 90, 100)  # New tuple to replace the last element\n",
    "\n",
    "list_of_tuples[-1] = new_element  # Replacing the last element\n",
    "\n",
    "print(\"Updated list of tuples:\", list_of_tuples)   # Output: [(10, 20, 30), (30, 40, 50), (80, 90, 100)]"
   ]
  },
  {
   "cell_type": "code",
   "execution_count": 36,
   "metadata": {},
   "outputs": [
    {
     "name": "stdout",
     "output_type": "stream",
     "text": [
      "There is no Emp Id\n"
     ]
    }
   ],
   "source": [
    "# 3 emp_dict = {'Name':\"sridhar\",'Skills':['Python','Ml','DL'],'Year':[2016,2017,2018]}   check id the emp_id is present or not\n",
    "\n",
    "emp_dict = {'Name':\"sridhar\",'Skills':['Python','Ml','DL'],'Year':[2016,2017,2018]}\n",
    "\n",
    "if emp_dict.keys == 'Emp_id':\n",
    "    print(\"There is Emp id\")\n",
    "else:\n",
    "    print(\"There is no Emp Id\")"
   ]
  },
  {
   "cell_type": "code",
   "execution_count": 37,
   "metadata": {},
   "outputs": [
    {
     "name": "stdout",
     "output_type": "stream",
     "text": [
      "['Qualcom', 'Google', 'Apple', 'Nvidia', 'Cisco', 'Samsung']\n"
     ]
    }
   ],
   "source": [
    "# Q4: Merge two lists of tech companies into one\n",
    "tech_comp1 = ['Qualcom', 'Google', 'Apple', ['Nvidia', 'Cisco', 'Samsung']]\n",
    "\n",
    "# Flattening the nested list and merging properly\n",
    "final_tech_comp = tech_comp1[:3] + tech_comp1[3]  # Extracting the first 3 elements and merging the nested list\n",
    "\n",
    "print(final_tech_comp)  # Output: ['Qualcom', 'Google', 'Apple', 'Nvidia', 'Cisco', 'Samsung']\n"
   ]
  },
  {
   "cell_type": "code",
   "execution_count": 35,
   "metadata": {},
   "outputs": [
    {
     "name": "stdout",
     "output_type": "stream",
     "text": [
      "[39, 30, 31, 22, 32, 20]\n",
      "\n",
      "[39, 30, 31, 22, 32, 20]\n"
     ]
    }
   ],
   "source": [
    "# 5 temp = [20,30,31,22,32,39] swap the highest and lowest temp  expected output: [39,30,31,22,32,20]\n",
    "\n",
    "# method 1\n",
    "a = [20,30,31,22,32,39]\n",
    "x = a.pop()\n",
    "y = a.pop(0)\n",
    "a.insert(0,x)\n",
    "a.append(y)\n",
    "print(a)\n",
    "\n",
    "print()\n",
    "\n",
    "\n",
    "# method 2\n",
    "temp = [20, 30, 31, 22, 32, 39]\n",
    "\n",
    "# Find indices of min and max values\n",
    "min_index = temp.index(min(temp))\n",
    "max_index = temp.index(max(temp))\n",
    "\n",
    "# Swap the values\n",
    "temp[min_index], temp[max_index] = temp[max_index], temp[min_index]\n",
    "\n",
    "print(temp)  # Output: [39, 30, 31, 22, 32, 20]\n"
   ]
  },
  {
   "cell_type": "code",
   "execution_count": null,
   "metadata": {},
   "outputs": [],
   "source": []
  },
  {
   "cell_type": "code",
   "execution_count": 2,
   "metadata": {},
   "outputs": [
    {
     "name": "stdout",
     "output_type": "stream",
     "text": [
      "testing\n"
     ]
    }
   ],
   "source": [
    "print(\"testing\")"
   ]
  },
  {
   "cell_type": "code",
   "execution_count": null,
   "metadata": {},
   "outputs": [
    {
     "name": "stdout",
     "output_type": "stream",
     "text": [
      "1.0\n",
      "2.0\n"
     ]
    }
   ],
   "source": [
    "def a():\n",
    "    a=[]  # creating the empty list\n",
    "    aa = int(input(\"Enter number of elements\"))  # taking the number of elements from the user\n",
    "    for i in range(aa):     # iterating the loop for the number of elements\n",
    "        b = int(input(f'Enter the {i+1} element')) #\n",
    "        a.append(b)\n",
    "    for i in a:\n",
    "        print(i/10)\n",
    "        \n",
    "\n",
    "a()\n"
   ]
  },
  {
   "cell_type": "code",
   "execution_count": null,
   "metadata": {},
   "outputs": [
    {
     "name": "stdout",
     "output_type": "stream",
     "text": [
      "The division of 10 with 10 is 1.0\n",
      "The division of 20 with 10 is 2.0\n",
      "The division of 30 with 10 is 3.0\n",
      "The division of 40 with 10 is 4.0\n",
      "The division of 50 with 10 is 5.0\n",
      "The division of 60 with 10 is 6.0\n",
      "The division of 70 with 10 is 7.0\n"
     ]
    }
   ],
   "source": [
    "def a():\n",
    "    #taking the input from the user and creating the appending with the list named b\n",
    "    b = list(map(int, input(f'Enter the elements').split())) \n",
    "    for i in b:\n",
    "        print(f'The division of {i} with 10 is {i/10}') # dividing the list with 10 and printing the results\n",
    "        \n",
    "a()\n"
   ]
  },
  {
   "cell_type": "code",
   "execution_count": 21,
   "metadata": {},
   "outputs": [],
   "source": [
    "def a(*args):\n",
    "    for i in args:\n",
    "        print(f'The division of {i} with 10 is {i/10}') # dividing the list with 10 and printing the results\n",
    "    \n",
    "    \n",
    "#taking the input from the user and creating the appending with the list named \n",
    "b = tuple(map(int, input(f'Enter the elements').split()))      \n"
   ]
  },
  {
   "cell_type": "markdown",
   "metadata": {},
   "source": [
    "26-03-2025\n"
   ]
  },
  {
   "cell_type": "code",
   "execution_count": 32,
   "metadata": {},
   "outputs": [
    {
     "name": "stdout",
     "output_type": "stream",
     "text": [
      "[0, 1, 2, 3, 4, 5, 6, 7, 8, 9]\n"
     ]
    },
    {
     "data": {
      "text/plain": [
       "list"
      ]
     },
     "execution_count": 32,
     "metadata": {},
     "output_type": "execute_result"
    }
   ],
   "source": [
    "x = [i for i in range(10)] #list comprehension\n",
    "print(x) #printing the list\n",
    "type(x) #checking the type of the list"
   ]
  },
  {
   "cell_type": "code",
   "execution_count": null,
   "metadata": {},
   "outputs": [],
   "source": []
  },
  {
   "cell_type": "code",
   "execution_count": null,
   "metadata": {},
   "outputs": [],
   "source": []
  },
  {
   "cell_type": "markdown",
   "metadata": {},
   "source": [
    "27-03-2025"
   ]
  },
  {
   "cell_type": "markdown",
   "metadata": {},
   "source": []
  }
 ],
 "metadata": {
  "kernelspec": {
   "display_name": "base",
   "language": "python",
   "name": "python3"
  },
  "language_info": {
   "codemirror_mode": {
    "name": "ipython",
    "version": 3
   },
   "file_extension": ".py",
   "mimetype": "text/x-python",
   "name": "python",
   "nbconvert_exporter": "python",
   "pygments_lexer": "ipython3",
   "version": "3.10.9"
  }
 },
 "nbformat": 4,
 "nbformat_minor": 2
}
