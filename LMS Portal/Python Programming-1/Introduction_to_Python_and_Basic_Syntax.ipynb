{
 "cells": [
  {
   "cell_type": "code",
   "execution_count": 1,
   "metadata": {},
   "outputs": [
    {
     "name": "stdout",
     "output_type": "stream",
     "text": [
      "Hello World!\n"
     ]
    }
   ],
   "source": [
    "print('Hello World!')"
   ]
  },
  {
   "cell_type": "markdown",
   "metadata": {},
   "source": [
    "Data Types and Variables"
   ]
  },
  {
   "cell_type": "code",
   "execution_count": null,
   "metadata": {},
   "outputs": [],
   "source": [
    "# Data Types in Python\n",
    "# 1. Integers\n",
    "# 2. Floats\n",
    "# 3. Strings\n",
    "# 4. Booleans"
   ]
  },
  {
   "cell_type": "code",
   "execution_count": 2,
   "metadata": {},
   "outputs": [
    {
     "name": "stdout",
     "output_type": "stream",
     "text": [
      "Sum of x and y is: 15\n",
      "Type of x is: <class 'int'>\n",
      "Type of y is: <class 'int'>\n",
      "Type of z is: <class 'int'>\n"
     ]
    }
   ],
   "source": [
    "#1. Integers\n",
    "x = 5\n",
    "y = 10\n",
    "z = x + y\n",
    "print(\"Sum of x and y is:\", z)\n",
    "print(\"Type of x is:\", type(x))\n",
    "print(\"Type of y is:\", type(y))\n",
    "print(\"Type of z is:\", type(z))"
   ]
  },
  {
   "cell_type": "code",
   "execution_count": 3,
   "metadata": {},
   "outputs": [
    {
     "name": "stdout",
     "output_type": "stream",
     "text": [
      "Sum of a and b is: 15.7\n",
      "Type of a is: <class 'float'>\n",
      "Type of b is: <class 'float'>\n",
      "Type of c is: <class 'float'>\n"
     ]
    }
   ],
   "source": [
    "#2. Floats\n",
    "a = 5.5\n",
    "b = 10.2\n",
    "c = a + b\n",
    "print(\"Sum of a and b is:\", c)\n",
    "print(\"Type of a is:\", type(a))\n",
    "print(\"Type of b is:\", type(b))\n",
    "print(\"Type of c is:\", type(c))\n"
   ]
  },
  {
   "cell_type": "code",
   "execution_count": 4,
   "metadata": {},
   "outputs": [
    {
     "name": "stdout",
     "output_type": "stream",
     "text": [
      "Name: John Doe\n",
      "Age: 30\n",
      "Type of name is: <class 'str'>\n",
      "Type of age is: <class 'int'>\n"
     ]
    }
   ],
   "source": [
    "#3. Strings\n",
    "\n",
    "name = \"John Doe\"\n",
    "age = 30\n",
    "print(\"Name:\", name)\n",
    "print(\"Age:\", age)\n",
    "print(\"Type of name is:\", type(name))\n",
    "print(\"Type of age is:\", type(age))\n"
   ]
  },
  {
   "cell_type": "code",
   "execution_count": 5,
   "metadata": {},
   "outputs": [
    {
     "name": "stdout",
     "output_type": "stream",
     "text": [
      "Is student: True\n",
      "Is employee: False\n",
      "Type of is_student is: <class 'bool'>\n",
      "Type of is_employee is: <class 'bool'>\n"
     ]
    }
   ],
   "source": [
    "#4. Booleans\n",
    "\n",
    "is_student = True\n",
    "is_employee = False\n",
    "\n",
    "print(\"Is student:\", is_student)\n",
    "print(\"Is employee:\", is_employee)\n",
    "print(\"Type of is_student is:\", type(is_student))\n",
    "print(\"Type of is_employee is:\", type(is_employee))"
   ]
  }
 ],
 "metadata": {
  "kernelspec": {
   "display_name": "base",
   "language": "python",
   "name": "python3"
  },
  "language_info": {
   "codemirror_mode": {
    "name": "ipython",
    "version": 3
   },
   "file_extension": ".py",
   "mimetype": "text/x-python",
   "name": "python",
   "nbconvert_exporter": "python",
   "pygments_lexer": "ipython3",
   "version": "3.10.9"
  }
 },
 "nbformat": 4,
 "nbformat_minor": 2
}
