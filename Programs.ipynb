{
 "cells": [
  {
   "cell_type": "code",
   "execution_count": 22,
   "metadata": {},
   "outputs": [
    {
     "name": "stdout",
     "output_type": "stream",
     "text": [
      "Hello\n"
     ]
    }
   ],
   "source": [
    "print(\"Hello\")"
   ]
  },
  {
   "cell_type": "markdown",
   "metadata": {},
   "source": []
  },
  {
   "cell_type": "markdown",
   "metadata": {},
   "source": [
    "15-3-25\n"
   ]
  },
  {
   "cell_type": "markdown",
   "metadata": {},
   "source": [
    "Tuples Examples"
   ]
  },
  {
   "cell_type": "code",
   "execution_count": 29,
   "metadata": {},
   "outputs": [
    {
     "data": {
      "text/plain": [
       "tuple"
      ]
     },
     "execution_count": 29,
     "metadata": {},
     "output_type": "execute_result"
    }
   ],
   "source": [
    "x = (10,)\n",
    "type(x)"
   ]
  },
  {
   "cell_type": "code",
   "execution_count": 33,
   "metadata": {},
   "outputs": [
    {
     "name": "stdout",
     "output_type": "stream",
     "text": [
      "(1, 2, 3, 4)\n",
      "(1, 2, 3, 4, 10)\n"
     ]
    }
   ],
   "source": [
    "x = (1,2,3,4)\n",
    "print(x)\n",
    "\n",
    "y=list(x) #converting to list\n",
    "\n",
    "y.append(10)\n",
    "\n",
    "x = tuple(y)  #converting to Tuple\n",
    "print(x)"
   ]
  },
  {
   "cell_type": "code",
   "execution_count": 34,
   "metadata": {},
   "outputs": [
    {
     "data": {
      "text/plain": [
       "3"
      ]
     },
     "execution_count": 34,
     "metadata": {},
     "output_type": "execute_result"
    }
   ],
   "source": [
    "x = (1,2,3,1,4,5,1)\n",
    "x.count(1) #counting number of elements"
   ]
  },
  {
   "cell_type": "markdown",
   "metadata": {},
   "source": [
    "24-03-2025\n"
   ]
  },
  {
   "cell_type": "code",
   "execution_count": 30,
   "metadata": {},
   "outputs": [
    {
     "name": "stdout",
     "output_type": "stream",
     "text": [
      "The Mode is 35\n"
     ]
    }
   ],
   "source": [
    "# Q1: Calculate the mode of the list\n",
    "\n",
    "import statistics  # Importing the statistics module for mathematical operations\n",
    "\n",
    "# List of temperature data\n",
    "data = [34, 35, 26, 37, 2, 35]\n",
    "\n",
    "# Calculating the mode (most frequently occurring value) from the list\n",
    "mode_value = statistics.mode(data)\n",
    "\n",
    "# Printing the mode value\n",
    "print('The Mode is',mode_value)  # Expected Output: 35 (since 35 appears twice, more than any other number)\n"
   ]
  },
  {
   "cell_type": "code",
   "execution_count": 38,
   "metadata": {},
   "outputs": [
    {
     "name": "stdout",
     "output_type": "stream",
     "text": [
      "Updated list of tuples: [(10, 20, 30), (30, 40, 50), (80, 90, 100)]\n"
     ]
    }
   ],
   "source": [
    "# Q2: Replace the last element of the list of tuples\n",
    "list_of_tuples = [(10, 20, 30), (30, 40, 50), (50, 60, 70)]\n",
    "\n",
    "new_element = (80, 90, 100)  # New tuple to replace the last element\n",
    "\n",
    "list_of_tuples[-1] = new_element  # Replacing the last element\n",
    "\n",
    "print(\"Updated list of tuples:\", list_of_tuples)   # Output: [(10, 20, 30), (30, 40, 50), (80, 90, 100)]"
   ]
  },
  {
   "cell_type": "code",
   "execution_count": 36,
   "metadata": {},
   "outputs": [
    {
     "name": "stdout",
     "output_type": "stream",
     "text": [
      "There is no Emp Id\n"
     ]
    }
   ],
   "source": [
    "# 3 emp_dict = {'Name':\"sridhar\",'Skills':['Python','Ml','DL'],'Year':[2016,2017,2018]}   check id the emp_id is present or not\n",
    "\n",
    "emp_dict = {'Name':\"sridhar\",'Skills':['Python','Ml','DL'],'Year':[2016,2017,2018]}\n",
    "\n",
    "if emp_dict.keys == 'Emp_id':\n",
    "    print(\"There is Emp id\")\n",
    "else:\n",
    "    print(\"There is no Emp Id\")"
   ]
  },
  {
   "cell_type": "code",
   "execution_count": 37,
   "metadata": {},
   "outputs": [
    {
     "name": "stdout",
     "output_type": "stream",
     "text": [
      "['Qualcom', 'Google', 'Apple', 'Nvidia', 'Cisco', 'Samsung']\n"
     ]
    }
   ],
   "source": [
    "# Q4: Merge two lists of tech companies into one\n",
    "tech_comp1 = ['Qualcom', 'Google', 'Apple', ['Nvidia', 'Cisco', 'Samsung']]\n",
    "\n",
    "# Flattening the nested list and merging properly\n",
    "final_tech_comp = tech_comp1[:3] + tech_comp1[3]  # Extracting the first 3 elements and merging the nested list\n",
    "\n",
    "print(final_tech_comp)  # Output: ['Qualcom', 'Google', 'Apple', 'Nvidia', 'Cisco', 'Samsung']\n"
   ]
  },
  {
   "cell_type": "code",
   "execution_count": 35,
   "metadata": {},
   "outputs": [
    {
     "name": "stdout",
     "output_type": "stream",
     "text": [
      "[39, 30, 31, 22, 32, 20]\n",
      "\n",
      "[39, 30, 31, 22, 32, 20]\n"
     ]
    }
   ],
   "source": [
    "# 5 temp = [20,30,31,22,32,39] swap the highest and lowest temp  expected output: [39,30,31,22,32,20]\n",
    "\n",
    "# method 1\n",
    "a = [20,30,31,22,32,39]\n",
    "x = a.pop()\n",
    "y = a.pop(0)\n",
    "a.insert(0,x)\n",
    "a.append(y)\n",
    "print(a)\n",
    "\n",
    "print()\n",
    "\n",
    "\n",
    "# method 2\n",
    "temp = [20, 30, 31, 22, 32, 39]\n",
    "\n",
    "# Find indices of min and max values\n",
    "min_index = temp.index(min(temp))\n",
    "max_index = temp.index(max(temp))\n",
    "\n",
    "# Swap the values\n",
    "temp[min_index], temp[max_index] = temp[max_index], temp[min_index]\n",
    "\n",
    "print(temp)  # Output: [39, 30, 31, 22, 32, 20]\n"
   ]
  },
  {
   "cell_type": "code",
   "execution_count": null,
   "metadata": {},
   "outputs": [],
   "source": []
  },
  {
   "cell_type": "code",
   "execution_count": 2,
   "metadata": {},
   "outputs": [
    {
     "name": "stdout",
     "output_type": "stream",
     "text": [
      "testing\n"
     ]
    }
   ],
   "source": [
    "print(\"testing\")"
   ]
  },
  {
   "cell_type": "code",
   "execution_count": null,
   "metadata": {},
   "outputs": [
    {
     "name": "stdout",
     "output_type": "stream",
     "text": [
      "1.0\n",
      "2.0\n"
     ]
    }
   ],
   "source": [
    "def a():\n",
    "    a=[]  # creating the empty list\n",
    "    aa = int(input(\"Enter number of elements\"))  # taking the number of elements from the user\n",
    "    for i in range(aa):     # iterating the loop for the number of elements\n",
    "        b = int(input(f'Enter the {i+1} element')) #\n",
    "        a.append(b)\n",
    "    for i in a:\n",
    "        print(i/10)\n",
    "        \n",
    "\n",
    "a()\n"
   ]
  },
  {
   "cell_type": "code",
   "execution_count": null,
   "metadata": {},
   "outputs": [
    {
     "name": "stdout",
     "output_type": "stream",
     "text": [
      "The division of 10 with 10 is 1.0\n",
      "The division of 20 with 10 is 2.0\n",
      "The division of 30 with 10 is 3.0\n",
      "The division of 40 with 10 is 4.0\n",
      "The division of 50 with 10 is 5.0\n",
      "The division of 60 with 10 is 6.0\n",
      "The division of 70 with 10 is 7.0\n"
     ]
    }
   ],
   "source": [
    "def a():\n",
    "    #taking the input from the user and creating the appending with the list named b\n",
    "    b = list(map(int, input(f'Enter the elements').split())) \n",
    "    for i in b:\n",
    "        print(f'The division of {i} with 10 is {i/10}') # dividing the list with 10 and printing the results\n",
    "        \n",
    "a()\n"
   ]
  },
  {
   "cell_type": "code",
   "execution_count": 21,
   "metadata": {},
   "outputs": [],
   "source": [
    "def a(*args):\n",
    "    for i in args:\n",
    "        print(f'The division of {i} with 10 is {i/10}') # dividing the list with 10 and printing the results\n",
    "    \n",
    "    \n",
    "#taking the input from the user and creating the appending with the list named \n",
    "b = tuple(map(int, input(f'Enter the elements').split()))      \n"
   ]
  },
  {
   "cell_type": "markdown",
   "metadata": {},
   "source": [
    "26-03-2025\n"
   ]
  },
  {
   "cell_type": "code",
   "execution_count": 32,
   "metadata": {},
   "outputs": [
    {
     "name": "stdout",
     "output_type": "stream",
     "text": [
      "[0, 1, 2, 3, 4, 5, 6, 7, 8, 9]\n"
     ]
    },
    {
     "data": {
      "text/plain": [
       "list"
      ]
     },
     "execution_count": 32,
     "metadata": {},
     "output_type": "execute_result"
    }
   ],
   "source": [
    "x = [i for i in range(10)] #list comprehension\n",
    "print(x) #printing the list\n",
    "type(x) #checking the type of the list"
   ]
  },
  {
   "cell_type": "code",
   "execution_count": null,
   "metadata": {},
   "outputs": [],
   "source": []
  },
  {
   "cell_type": "code",
   "execution_count": null,
   "metadata": {},
   "outputs": [],
   "source": []
  },
  {
   "cell_type": "markdown",
   "metadata": {},
   "source": [
    "27-03-2025"
   ]
  },
  {
   "cell_type": "markdown",
   "metadata": {},
   "source": [
    "Numpy"
   ]
  },
  {
   "cell_type": "code",
   "execution_count": 1,
   "metadata": {},
   "outputs": [],
   "source": [
    "import numpy as np #importing the numpy module\n"
   ]
  },
  {
   "cell_type": "code",
   "execution_count": null,
   "metadata": {},
   "outputs": [
    {
     "name": "stdout",
     "output_type": "stream",
     "text": [
      "[ 2  3  5  7 11 13]\n"
     ]
    }
   ],
   "source": [
    "# one dimensional array with prime numbers\n",
    "prime_array = np.array([2,3,5,7,11,13]) \n",
    "print(prime_array)\n"
   ]
  },
  {
   "cell_type": "code",
   "execution_count": 7,
   "metadata": {},
   "outputs": [
    {
     "name": "stdout",
     "output_type": "stream",
     "text": [
      "[[ 1  3  5  7  9]\n",
      " [ 2  4  6  8 10]]\n"
     ]
    }
   ],
   "source": [
    "# two dimensional array with even and odd numbers\n",
    "array = np.array([[1,3,5,7,9],[2,4,6,8,10]]) \n",
    "print(array)\n"
   ]
  },
  {
   "cell_type": "code",
   "execution_count": 9,
   "metadata": {},
   "outputs": [
    {
     "name": "stdout",
     "output_type": "stream",
     "text": [
      "[[[ 1  3]\n",
      "  [ 2  4]]\n",
      "\n",
      " [[ 7  9]\n",
      "  [ 8 10]]]\n"
     ]
    }
   ],
   "source": [
    "# three  dimensional array with even and odd numbers\n",
    "array = np.array([[[1,3,],[2,4,]], \n",
    "                 [[7,9],[8,10]]]) \n",
    "print(array)\n"
   ]
  },
  {
   "cell_type": "code",
   "execution_count": 10,
   "metadata": {},
   "outputs": [],
   "source": [
    "matrix = np.random.randint(0, 2, (50,50), dtype=np.uint8) #creating the random matrix with 50 rows and 50 columns"
   ]
  },
  {
   "cell_type": "code",
   "execution_count": 11,
   "metadata": {},
   "outputs": [
    {
     "name": "stdout",
     "output_type": "stream",
     "text": [
      "[[0 0 0 ... 0 1 0]\n",
      " [1 1 0 ... 0 1 0]\n",
      " [1 1 0 ... 0 1 0]\n",
      " ...\n",
      " [1 0 0 ... 1 1 0]\n",
      " [0 1 0 ... 1 0 0]\n",
      " [1 0 0 ... 1 1 0]]\n"
     ]
    }
   ],
   "source": [
    "print(matrix) #printing the matrix"
   ]
  },
  {
   "cell_type": "markdown",
   "metadata": {},
   "source": [
    "Array Inspection (numpy attributes)"
   ]
  },
  {
   "cell_type": "markdown",
   "metadata": {},
   "source": [
    ".shape"
   ]
  },
  {
   "cell_type": "code",
   "execution_count": null,
   "metadata": {},
   "outputs": [
    {
     "name": "stdout",
     "output_type": "stream",
     "text": [
      "(2, 5)\n"
     ]
    }
   ],
   "source": [
    "#  this returns the tuple consisting of array dimensional and can be used to resize the array\n",
    "\n",
    "a = np.array([[1,2,3,4,5], [6,7,8,9,10]]) #creating the array with 2 rows and 5 columns\n",
    "print(a.shape) #printing the shape of the array"
   ]
  },
  {
   "cell_type": "markdown",
   "metadata": {},
   "source": [
    ".ndim"
   ]
  },
  {
   "cell_type": "code",
   "execution_count": 15,
   "metadata": {},
   "outputs": [
    {
     "name": "stdout",
     "output_type": "stream",
     "text": [
      "1\n",
      "2\n"
     ]
    }
   ],
   "source": [
    "# returns the number of array dimensions\n",
    "\n",
    "a = np.array([1,2,3,4,5]) \n",
    "b = np.array([[1,2,3,4,5], [6,7,8,9,10]])\n",
    "\n",
    "print(a.ndim)\n",
    "print(b.ndim)"
   ]
  },
  {
   "cell_type": "markdown",
   "metadata": {},
   "source": [
    ".size"
   ]
  },
  {
   "cell_type": "code",
   "execution_count": null,
   "metadata": {},
   "outputs": [
    {
     "name": "stdout",
     "output_type": "stream",
     "text": [
      "5\n",
      "10\n"
     ]
    }
   ],
   "source": [
    "# this returns the total number of elements of an array\n",
    "\n",
    "a = np.array([1,2,3,4,5]) #creating the array with 5 elements\n",
    "\n",
    "b = np.array([[1,2,3,4,5], [6,7,8,9,10]])\n",
    "\n",
    "print(a.size) #printing the size of the array\n",
    "\n",
    "print(b.size) "
   ]
  },
  {
   "cell_type": "markdown",
   "metadata": {},
   "source": [
    ".dtype"
   ]
  },
  {
   "cell_type": "code",
   "execution_count": null,
   "metadata": {},
   "outputs": [
    {
     "name": "stdout",
     "output_type": "stream",
     "text": [
      "<U11\n",
      "int32\n"
     ]
    }
   ],
   "source": [
    "# this returns the data type of array\n",
    "\n",
    "a = np.array(['Sridhar','Pravalli','Meghana','Hemanth','Chaitanya']) #creating the array with 5 elements\n",
    "\n",
    "b = np.array([[1,2,3,4,5], [6,7,8,9,10]])\n",
    "\n",
    "print(a.dtype)\n",
    "\n",
    "print(b.dtype)"
   ]
  },
  {
   "cell_type": "markdown",
   "metadata": {},
   "source": [
    ".astype"
   ]
  },
  {
   "cell_type": "code",
   "execution_count": 33,
   "metadata": {},
   "outputs": [
    {
     "name": "stdout",
     "output_type": "stream",
     "text": [
      "[1 2 3 4]\n",
      "int32\n",
      "\n",
      "[1. 2. 3. 4.]\n",
      "float64\n"
     ]
    }
   ],
   "source": [
    "# this changed the data type of an array\n",
    "\n",
    "a = np.array([1,2,3,4])\n",
    "print(a)\n",
    "print(a.dtype)\n",
    "\n",
    "print()\n",
    "\n",
    "# change the data type of an array to the float \n",
    "b = a.astype('float64')\n",
    "print(b)\n",
    "print(b.dtype)\n"
   ]
  },
  {
   "cell_type": "code",
   "execution_count": null,
   "metadata": {},
   "outputs": [],
   "source": [
    " "
   ]
  },
  {
   "cell_type": "markdown",
   "metadata": {},
   "source": [
    "28-03-2025"
   ]
  },
  {
   "cell_type": "markdown",
   "metadata": {},
   "source": [
    "Checking the Memory"
   ]
  },
  {
   "cell_type": "code",
   "execution_count": 39,
   "metadata": {},
   "outputs": [
    {
     "name": "stdout",
     "output_type": "stream",
     "text": [
      "Size of each element of the list in bytes:  136\n",
      "Size of the whole list in bytes:  1360\n",
      "\n",
      "Size of each element of the NumPy array in bytes:  4\n",
      "Size of the whole NumPy array in bytes:  40\n"
     ]
    }
   ],
   "source": [
    "# checking the memory in the list and in the numpy array\n",
    "\n",
    "import numpy as np\n",
    "import sys\n",
    "\n",
    "s = [1,2,3,4,5,6,7,8,9,10] #creating the list with 10 elements\n",
    "print(\"Size of each element of the list in bytes: \", sys.getsizeof(s)) #printing the size of the list\n",
    "print(\"Size of the whole list in bytes: \", sys.getsizeof(s) * len(s)) #printing the size of the list\n",
    "\n",
    "\n",
    "print()\n",
    "\n",
    "a = np.array([1,2,3,4,5,6,7,8,9,10]) #creating the array with 10 elements\n",
    "print(\"Size of each element of the NumPy array in bytes: \", a.itemsize) #printing the size of the array\n",
    "print(\"Size of the whole NumPy array in bytes: \", a.itemsize * a.size) #printing the size of the array\n"
   ]
  },
  {
   "cell_type": "markdown",
   "metadata": {},
   "source": [
    "Performance checking (By time)"
   ]
  },
  {
   "cell_type": "code",
   "execution_count": 42,
   "metadata": {},
   "outputs": [
    {
     "name": "stdout",
     "output_type": "stream",
     "text": [
      "Time taken for list in seconds:  244.354248046875 Milliseconds\n",
      "Time taken for NumPy array in seconds:  20.67399024963379 Milliseconds\n"
     ]
    }
   ],
   "source": [
    "import numpy as np\n",
    "import time\n",
    "\n",
    "size = 1000000 #creating the size of the array\n",
    "\n",
    "#declaring lists\n",
    "list1 = range(size)\n",
    "list2 = range(size)\n",
    "\n",
    "#declaring arrays\n",
    "array1 = np.arange(size)\n",
    "array2 = np.arange(size)\n",
    "\n",
    "#list time calculation\n",
    "initial_time = time.time()\n",
    "\n",
    "#multiplying the elements of the list\n",
    "resultlist = [(a * b) for a, b in zip(list1, list2)] \n",
    "\n",
    "print(\"Time taken for list in seconds: \", (time.time() - initial_time)*1000,'Milliseconds') #printing the time taken for the list\n",
    "\n",
    "#capturing the initial time for the array\n",
    "initial_time = time.time()\n",
    "\n",
    "#multiplying the elements of the array and stored in array\n",
    "resultarray = array1 * array2\n",
    "\n",
    "#printing the time taken for the array\n",
    "print(\"Time taken for NumPy array in seconds: \", (time.time() - initial_time)*1000,'Milliseconds') \n",
    "\n",
    "\n",
    "\n",
    "\n"
   ]
  },
  {
   "cell_type": "code",
   "execution_count": null,
   "metadata": {},
   "outputs": [
    {
     "data": {
      "text/plain": [
       "array([1., 1., 1.])"
      ]
     },
     "execution_count": 43,
     "metadata": {},
     "output_type": "execute_result"
    }
   ],
   "source": [
    "#creating the array with 3 elements with one's\n",
    "np.ones(3)"
   ]
  },
  {
   "cell_type": "code",
   "execution_count": null,
   "metadata": {},
   "outputs": [
    {
     "data": {
      "text/plain": [
       "array([0., 0., 0.])"
      ]
     },
     "execution_count": 44,
     "metadata": {},
     "output_type": "execute_result"
    }
   ],
   "source": [
    "#creating the array with zeros\n",
    "np.zeros(3) "
   ]
  },
  {
   "cell_type": "code",
   "execution_count": null,
   "metadata": {},
   "outputs": [
    {
     "data": {
      "text/plain": [
       "array([0.13356103, 0.71347522, 0.68150327])"
      ]
     },
     "execution_count": 45,
     "metadata": {},
     "output_type": "execute_result"
    }
   ],
   "source": [
    "#creating the array with random numbers\n",
    "np.random.random(3) #creating the array with random numbers"
   ]
  },
  {
   "cell_type": "markdown",
   "metadata": {},
   "source": []
  },
  {
   "cell_type": "markdown",
   "metadata": {},
   "source": [
    "Indexing and slicing"
   ]
  },
  {
   "cell_type": "markdown",
   "metadata": {},
   "source": [
    "Slicing 1-D Array"
   ]
  },
  {
   "cell_type": "code",
   "execution_count": 46,
   "metadata": {},
   "outputs": [],
   "source": [
    "a = np.array([1,2,3,4,5]) #creating the array with 5 elements"
   ]
  },
  {
   "cell_type": "code",
   "execution_count": 47,
   "metadata": {},
   "outputs": [
    {
     "data": {
      "text/plain": [
       "1"
      ]
     },
     "execution_count": 47,
     "metadata": {},
     "output_type": "execute_result"
    }
   ],
   "source": [
    "a[0] #accessing the first element of the array"
   ]
  },
  {
   "cell_type": "code",
   "execution_count": 48,
   "metadata": {},
   "outputs": [
    {
     "data": {
      "text/plain": [
       "2"
      ]
     },
     "execution_count": 48,
     "metadata": {},
     "output_type": "execute_result"
    }
   ],
   "source": [
    "a[1] #accessing the second element of the array"
   ]
  },
  {
   "cell_type": "code",
   "execution_count": null,
   "metadata": {},
   "outputs": [
    {
     "data": {
      "text/plain": [
       "array([1, 2])"
      ]
     },
     "execution_count": 49,
     "metadata": {},
     "output_type": "execute_result"
    }
   ],
   "source": [
    "a[0:2] #accessing the first two elements of the array"
   ]
  },
  {
   "cell_type": "markdown",
   "metadata": {},
   "source": [
    "Slicing in 2-D Array"
   ]
  },
  {
   "cell_type": "code",
   "execution_count": 60,
   "metadata": {},
   "outputs": [],
   "source": [
    "a = np.array([[1,2], [3,4],[5,6]]) #creating the array with 2 rows and 5 columns"
   ]
  },
  {
   "cell_type": "code",
   "execution_count": 61,
   "metadata": {},
   "outputs": [
    {
     "data": {
      "text/plain": [
       "array([[1, 2],\n",
       "       [3, 4],\n",
       "       [5, 6]])"
      ]
     },
     "execution_count": 61,
     "metadata": {},
     "output_type": "execute_result"
    }
   ],
   "source": [
    "a"
   ]
  },
  {
   "cell_type": "code",
   "execution_count": 62,
   "metadata": {},
   "outputs": [
    {
     "data": {
      "text/plain": [
       "2"
      ]
     },
     "execution_count": 62,
     "metadata": {},
     "output_type": "execute_result"
    }
   ],
   "source": [
    "a[0,1] #accessing the first row and second column element"
   ]
  },
  {
   "cell_type": "code",
   "execution_count": 63,
   "metadata": {},
   "outputs": [
    {
     "data": {
      "text/plain": [
       "array([[3, 4],\n",
       "       [5, 6]])"
      ]
     },
     "execution_count": 63,
     "metadata": {},
     "output_type": "execute_result"
    }
   ],
   "source": [
    "a[1:3] #accessing the second row"
   ]
  },
  {
   "cell_type": "code",
   "execution_count": 70,
   "metadata": {},
   "outputs": [
    {
     "data": {
      "text/plain": [
       "array([1, 3])"
      ]
     },
     "execution_count": 70,
     "metadata": {},
     "output_type": "execute_result"
    }
   ],
   "source": [
    "a[0:2,0] #accessing the first column"
   ]
  },
  {
   "cell_type": "code",
   "execution_count": null,
   "metadata": {},
   "outputs": [
    {
     "data": {
      "text/plain": [
       "1"
      ]
     },
     "execution_count": 68,
     "metadata": {},
     "output_type": "execute_result"
    }
   ],
   "source": [
    "a[0,0] #accessing the first element"
   ]
  },
  {
   "cell_type": "code",
   "execution_count": null,
   "metadata": {},
   "outputs": [
    {
     "data": {
      "text/plain": [
       "4"
      ]
     },
     "execution_count": 69,
     "metadata": {},
     "output_type": "execute_result"
    }
   ],
   "source": [
    "a[1,1] #accessing the second row and second column element"
   ]
  },
  {
   "cell_type": "code",
   "execution_count": 74,
   "metadata": {},
   "outputs": [
    {
     "data": {
      "text/plain": [
       "array([[1, 2],\n",
       "       [3, 4],\n",
       "       [5, 6]])"
      ]
     },
     "execution_count": 74,
     "metadata": {},
     "output_type": "execute_result"
    }
   ],
   "source": [
    "a"
   ]
  },
  {
   "cell_type": "code",
   "execution_count": null,
   "metadata": {},
   "outputs": [
    {
     "data": {
      "text/plain": [
       "array([4, 6])"
      ]
     },
     "execution_count": 75,
     "metadata": {},
     "output_type": "execute_result"
    }
   ],
   "source": [
    "a[1:3,1] "
   ]
  },
  {
   "cell_type": "markdown",
   "metadata": {},
   "source": [
    "Slicing in 3-D array"
   ]
  },
  {
   "cell_type": "code",
   "execution_count": 80,
   "metadata": {},
   "outputs": [
    {
     "data": {
      "text/plain": [
       "array([[[ 1,  2],\n",
       "        [ 4,  5],\n",
       "        [ 5,  6]],\n",
       "\n",
       "       [[ 7,  8],\n",
       "        [ 9, 10],\n",
       "        [10, 11]],\n",
       "\n",
       "       [[12, 13],\n",
       "        [14, 15],\n",
       "        [16, 17]]])"
      ]
     },
     "execution_count": 80,
     "metadata": {},
     "output_type": "execute_result"
    }
   ],
   "source": [
    "# for 3-D array slicing the format is array [index,rox,column]\n",
    "\n",
    "a = np.array([[[1,2],[4,5],[5,6]],\n",
    "              [[7,8],[9,10],[10,11]],\n",
    "              [[12,13],[14,15],[16,17]]]) #creating the 3-D array\n",
    "a"
   ]
  },
  {
   "cell_type": "code",
   "execution_count": 81,
   "metadata": {},
   "outputs": [
    {
     "data": {
      "text/plain": [
       "array([[[ 1,  2],\n",
       "        [ 4,  5],\n",
       "        [ 5,  6]],\n",
       "\n",
       "       [[ 7,  8],\n",
       "        [ 9, 10],\n",
       "        [10, 11]]])"
      ]
     },
     "execution_count": 81,
     "metadata": {},
     "output_type": "execute_result"
    }
   ],
   "source": [
    "a[0:2]"
   ]
  },
  {
   "cell_type": "code",
   "execution_count": null,
   "metadata": {},
   "outputs": [
    {
     "data": {
      "text/plain": [
       "array([[[ 5],\n",
       "        [ 6]],\n",
       "\n",
       "       [[10],\n",
       "        [11]]])"
      ]
     },
     "execution_count": 82,
     "metadata": {},
     "output_type": "execute_result"
    }
   ],
   "source": [
    "a[0:2,1:,1:] "
   ]
  },
  {
   "cell_type": "code",
   "execution_count": null,
   "metadata": {},
   "outputs": [],
   "source": []
  },
  {
   "cell_type": "markdown",
   "metadata": {},
   "source": [
    "02-04-2024"
   ]
  },
  {
   "cell_type": "code",
   "execution_count": 1,
   "metadata": {},
   "outputs": [],
   "source": [
    "import numpy as np"
   ]
  },
  {
   "cell_type": "code",
   "execution_count": 2,
   "metadata": {},
   "outputs": [],
   "source": [
    "a = np.array([1,2,3,4,5,6])"
   ]
  },
  {
   "cell_type": "code",
   "execution_count": null,
   "metadata": {},
   "outputs": [
    {
     "data": {
      "text/plain": [
       "[array([1, 2]), array([3, 4]), array([5, 6])]"
      ]
     },
     "execution_count": 3,
     "metadata": {},
     "output_type": "execute_result"
    }
   ],
   "source": [
    "np.split(a,3)"
   ]
  },
  {
   "cell_type": "code",
   "execution_count": null,
   "metadata": {},
   "outputs": [],
   "source": []
  }
 ],
 "metadata": {
  "kernelspec": {
   "display_name": "base",
   "language": "python",
   "name": "python3"
  },
  "language_info": {
   "codemirror_mode": {
    "name": "ipython",
    "version": 3
   },
   "file_extension": ".py",
   "mimetype": "text/x-python",
   "name": "python",
   "nbconvert_exporter": "python",
   "pygments_lexer": "ipython3",
   "version": "3.10.9"
  }
 },
 "nbformat": 4,
 "nbformat_minor": 2
}
